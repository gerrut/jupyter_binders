{
 "cells": [
  {
   "cell_type": "code",
   "execution_count": 21,
   "metadata": {
    "collapsed": true
   },
   "outputs": [
    {
     "name": "stdout",
     "output_type": "stream",
     "text": [
      "a\n"
     ]
    }
   ],
   "source": [
    "from ipywidgets import interact, interactive, widgets\n",
    "import pyperclip as pc\n",
    "from IPython.display import display, Javascript\n",
    "\n",
    "a = input()\n",
    "print(a)"
   ]
  },
  {
   "cell_type": "code",
   "execution_count": 23,
   "outputs": [
    {
     "data": {
      "text/plain": "Label(value='Text captured: ')",
      "application/vnd.jupyter.widget-view+json": {
       "version_major": 2,
       "version_minor": 0,
       "model_id": "4de02bfb03974caab36bdd4735b21d03"
      }
     },
     "metadata": {},
     "output_type": "display_data"
    },
    {
     "data": {
      "text/plain": "Text(value='', description='Name:', placeholder='Enter your name')",
      "application/vnd.jupyter.widget-view+json": {
       "version_major": 2,
       "version_minor": 0,
       "model_id": "8c9ab0dff7644d96bcd0a88e19e2f10c"
      }
     },
     "metadata": {},
     "output_type": "display_data"
    },
    {
     "name": "stdout",
     "output_type": "stream",
     "text": [
      "{'name': 'value', 'old': '', 'new': 'R', 'owner': Text(value='R', description='Name:', placeholder='Enter your name'), 'type': 'change'}\n",
      "{'name': 'value', 'old': 'R', 'new': 'Ru', 'owner': Text(value='Ru', description='Name:', placeholder='Enter your name'), 'type': 'change'}\n",
      "{'name': 'value', 'old': 'Ru', 'new': 'Rut', 'owner': Text(value='Rut', description='Name:', placeholder='Enter your name'), 'type': 'change'}\n",
      "{'name': 'value', 'old': 'Rut', 'new': 'Rutg', 'owner': Text(value='Rutg', description='Name:', placeholder='Enter your name'), 'type': 'change'}\n",
      "{'name': 'value', 'old': 'Rutg', 'new': 'Rutge', 'owner': Text(value='Rutge', description='Name:', placeholder='Enter your name'), 'type': 'change'}\n",
      "{'name': 'value', 'old': 'Rutge', 'new': 'Rutger', 'owner': Text(value='Rutger', description='Name:', placeholder='Enter your name'), 'type': 'change'}\n"
     ]
    }
   ],
   "source": [
    "def text_change(change):\n",
    "    print(change)\n",
    "    label.value = \"Text captured: \"+change[\"new\"]\n",
    "    pc.copy(change[\"new\"])\n",
    "\n",
    "label = widgets.Label(value=\"Text captured: \")\n",
    "\n",
    "txtsl = widgets.Text(\n",
    " placeholder='Enter your name',\n",
    " description='Name:'\n",
    ")\n",
    "txtsl.observe(text_change, names=\"value\")\n",
    "display(label, txtsl)"
   ],
   "metadata": {
    "collapsed": false,
    "pycharm": {
     "name": "#%%\n"
    }
   }
  }
 ],
 "metadata": {
  "kernelspec": {
   "display_name": "Python 3",
   "language": "python",
   "name": "python3"
  },
  "language_info": {
   "codemirror_mode": {
    "name": "ipython",
    "version": 2
   },
   "file_extension": ".py",
   "mimetype": "text/x-python",
   "name": "python",
   "nbconvert_exporter": "python",
   "pygments_lexer": "ipython2",
   "version": "2.7.6"
  }
 },
 "nbformat": 4,
 "nbformat_minor": 0
}