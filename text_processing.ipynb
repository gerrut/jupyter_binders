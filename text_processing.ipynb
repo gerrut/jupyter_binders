{
 "cells": [
  {
   "cell_type": "code",
   "execution_count": 9,
   "metadata": {
    "pycharm": {
     "name": "#%%\n"
    }
   },
   "outputs": [
    {
     "data": {
      "text/plain": "Label(value='Text from box: ', layout=Layout(width='100%'))",
      "application/vnd.jupyter.widget-view+json": {
       "version_major": 2,
       "version_minor": 0,
       "model_id": "2858b649fa7b4107be75b6b554885675"
      }
     },
     "metadata": {},
     "output_type": "display_data"
    },
    {
     "data": {
      "text/plain": "Text(value='', description='Names:', placeholder='Enter your name string')",
      "application/vnd.jupyter.widget-view+json": {
       "version_major": 2,
       "version_minor": 0,
       "model_id": "04b0c7c36f9645c38fe8edc5b9b12467"
      }
     },
     "metadata": {},
     "output_type": "display_data"
    }
   ],
   "source": [
    "from ipywidgets import interact, interactive, widgets\n",
    "import ipywidgets as ipy\n",
    "from IPython.display import display, Javascript\n",
    "import authors\n",
    "\n",
    "def text_change(change):\n",
    "    label.value = authors.clearLine(change[\"new\"])\n",
    "\n",
    "label = widgets.Textarea(value=\"Text from box: \", layout=ipy.Layout(width='100%'))\n",
    "\n",
    "txtsl = widgets.Text(\n",
    " placeholder='Enter your name string',\n",
    " description='Names:'\n",
    ")\n",
    "txtsl.observe(text_change, names=\"value\")\n",
    "display(label, txtsl)\n",
    "\n"
   ]
  },
  {
   "cell_type": "markdown",
   "source": [
    "## Over de auteurs\n",
    "\n",
    "Vul de gekopieerde lijn met auteurs van het artikel in in de textbox \"Names\". De regel erboven zal vervolgens automatisch de omgezette versie weergeven die je dan weer kunt kopiëren (helaas werkt automatisch naar het clipboard niet in de webvariant van dit script).\n",
    "\n",
    "Het is verstandig om vooraf even te kijken of de namen van de auteurs goed gescheiden zijn met spaties e.d. De OCR wil nog wel eens spaties missen als de opmaak is 'geknepen'.\n",
    "\n",
    "   &nbsp;\n",
    "\n",
    "\n",
    "## Over de samenvatting\n",
    "In het veld hieronder kun je de regeleindes verwijderen van de samenvatting."
   ],
   "metadata": {
    "collapsed": false
   }
  },
  {
   "cell_type": "code",
   "execution_count": 11,
   "outputs": [
    {
     "data": {
      "text/plain": "Textarea(value='Summary: ', layout=Layout(width='100%'))",
      "application/vnd.jupyter.widget-view+json": {
       "version_major": 2,
       "version_minor": 0,
       "model_id": "05ab7ce2fe90493bb8f46d4bda6048dd"
      }
     },
     "metadata": {},
     "output_type": "display_data"
    },
    {
     "data": {
      "text/plain": "Textarea(value='', description='Summary:', placeholder='Enter your summary')",
      "application/vnd.jupyter.widget-view+json": {
       "version_major": 2,
       "version_minor": 0,
       "model_id": "1a6f32632e074a4ab588361045d81a0e"
      }
     },
     "metadata": {},
     "output_type": "display_data"
    }
   ],
   "source": [
    "def summary_change(change):\n",
    "    summary = change[\"new\"]\n",
    "    summary = summary.replace(chr(13), \" \")\n",
    "    summary = summary.replace(chr(10), \" \")\n",
    "    while summary.find(\"  \") > 0:\n",
    "        summary = summary.replace(\"  \", \" \")\n",
    "    label_summary.value = summary\n",
    "\n",
    "label_summary = widgets.Textarea(value=\"Summary: \", layout=ipy.Layout(width='100%'))\n",
    "\n",
    "summary_area = widgets.Textarea(\n",
    " placeholder='Enter your summary',\n",
    " description='Summary:'\n",
    ")\n",
    "summary_area.observe(summary_change, names=\"value\")\n",
    "display(label_summary, summary_area)"
   ],
   "metadata": {
    "collapsed": false,
    "pycharm": {
     "name": "#%%\n"
    }
   }
  }
 ],
 "metadata": {
  "kernelspec": {
   "display_name": "Python 3 (ipykernel)",
   "language": "python",
   "name": "python3"
  },
  "language_info": {
   "codemirror_mode": {
    "name": "ipython",
    "version": 3
   },
   "file_extension": ".py",
   "mimetype": "text/x-python",
   "name": "python",
   "nbconvert_exporter": "python",
   "pygments_lexer": "ipython3",
   "version": "3.9.7"
  }
 },
 "nbformat": 4,
 "nbformat_minor": 1
}